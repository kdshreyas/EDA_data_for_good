{
  "nbformat": 4,
  "nbformat_minor": 0,
  "metadata": {
    "colab": {
      "name": "Data_For_Good.ipynb",
      "provenance": []
    },
    "kernelspec": {
      "name": "python3",
      "display_name": "Python 3"
    },
    "language_info": {
      "name": "python"
    }
  },
  "cells": [
    {
      "cell_type": "markdown",
      "metadata": {
        "id": "40ypHMvvGnDY"
      },
      "source": [
        "# Data importing"
      ]
    },
    {
      "cell_type": "code",
      "metadata": {
        "id": "kvZDdBQi18f-"
      },
      "source": [
        "from google.colab import drive "
      ],
      "execution_count": 1,
      "outputs": []
    },
    {
      "cell_type": "code",
      "metadata": {
        "colab": {
          "base_uri": "https://localhost:8080/"
        },
        "id": "OPxkqATj3z5W",
        "outputId": "69a52c4e-853f-44d8-8b24-ee1417bae601"
      },
      "source": [
        "drive.mount('/content/drive')"
      ],
      "execution_count": 2,
      "outputs": [
        {
          "output_type": "stream",
          "name": "stdout",
          "text": [
            "Drive already mounted at /content/drive; to attempt to forcibly remount, call drive.mount(\"/content/drive\", force_remount=True).\n"
          ]
        }
      ]
    },
    {
      "cell_type": "code",
      "metadata": {
        "id": "8ecsyXOJ4BlT"
      },
      "source": [
        "import pandas as pd\n",
        "import matplotlib.pyplot as plt\n",
        "%matplotlib inline"
      ],
      "execution_count": 3,
      "outputs": []
    },
    {
      "cell_type": "code",
      "metadata": {
        "colab": {
          "base_uri": "https://localhost:8080/"
        },
        "id": "VedaNLda4g_a",
        "outputId": "5d31cc89-6868-4bec-c10d-845ca6b96835"
      },
      "source": [
        "df = pd.read_csv('/content/drive/MyDrive/[Data for Good] Social Media Datathon Challenge/tweets_all_revised2.csv')"
      ],
      "execution_count": 4,
      "outputs": [
        {
          "output_type": "stream",
          "name": "stderr",
          "text": [
            "/usr/local/lib/python3.7/dist-packages/IPython/core/interactiveshell.py:2718: DtypeWarning: Columns (10,11,12,13) have mixed types.Specify dtype option on import or set low_memory=False.\n",
            "  interactivity=interactivity, compiler=compiler, result=result)\n"
          ]
        }
      ]
    },
    {
      "cell_type": "markdown",
      "metadata": {
        "id": "cBX3IspRGxBa"
      },
      "source": [
        "# Data Cleaning and preparation"
      ]
    },
    {
      "cell_type": "code",
      "metadata": {
        "colab": {
          "base_uri": "https://localhost:8080/",
          "height": 660
        },
        "id": "2eA0uqB4FbOF",
        "outputId": "d1c11e24-0b7a-4153-f4be-336336bbd998"
      },
      "source": [
        "df.head()"
      ],
      "execution_count": 5,
      "outputs": [
        {
          "output_type": "execute_result",
          "data": {
            "text/html": [
              "<div>\n",
              "<style scoped>\n",
              "    .dataframe tbody tr th:only-of-type {\n",
              "        vertical-align: middle;\n",
              "    }\n",
              "\n",
              "    .dataframe tbody tr th {\n",
              "        vertical-align: top;\n",
              "    }\n",
              "\n",
              "    .dataframe thead th {\n",
              "        text-align: right;\n",
              "    }\n",
              "</style>\n",
              "<table border=\"1\" class=\"dataframe\">\n",
              "  <thead>\n",
              "    <tr style=\"text-align: right;\">\n",
              "      <th></th>\n",
              "      <th>tweet_id</th>\n",
              "      <th>user_id</th>\n",
              "      <th>created_at</th>\n",
              "      <th>screen_name</th>\n",
              "      <th>text</th>\n",
              "      <th>urls</th>\n",
              "      <th>favorite_count</th>\n",
              "      <th>retweet_count</th>\n",
              "      <th>URL</th>\n",
              "      <th>hashtags</th>\n",
              "      <th>has_media</th>\n",
              "      <th>is_quote</th>\n",
              "      <th>is_reply</th>\n",
              "      <th>is_retweet</th>\n",
              "      <th>Organization Name</th>\n",
              "      <th>text_clean</th>\n",
              "    </tr>\n",
              "  </thead>\n",
              "  <tbody>\n",
              "    <tr>\n",
              "      <th>0</th>\n",
              "      <td>0</td>\n",
              "      <td>885747516</td>\n",
              "      <td>2021-02-26 17:59:51</td>\n",
              "      <td>AIMkitchener</td>\n",
              "      <td>🍅 What will your garden look like this year? 🪴...</td>\n",
              "      <td>['https://t.co/g1djW5JMVT']</td>\n",
              "      <td>2.0</td>\n",
              "      <td>0.0</td>\n",
              "      <td>https://twitter.com/i/web/status/1365360946378...</td>\n",
              "      <td>[]</td>\n",
              "      <td>False</td>\n",
              "      <td>False</td>\n",
              "      <td>False</td>\n",
              "      <td>False</td>\n",
              "      <td>Adults In Motion</td>\n",
              "      <td>What will your garden look like this year  \\n...</td>\n",
              "    </tr>\n",
              "    <tr>\n",
              "      <th>1</th>\n",
              "      <td>1</td>\n",
              "      <td>885747516</td>\n",
              "      <td>2021-02-24 19:34:45</td>\n",
              "      <td>AIMkitchener</td>\n",
              "      <td>Virtual connecting is not the next big thing, ...</td>\n",
              "      <td>['https://t.co/b1Ts6V60hS']</td>\n",
              "      <td>1.0</td>\n",
              "      <td>0.0</td>\n",
              "      <td>https://twitter.com/i/web/status/1364660054046...</td>\n",
              "      <td>[]</td>\n",
              "      <td>False</td>\n",
              "      <td>False</td>\n",
              "      <td>False</td>\n",
              "      <td>False</td>\n",
              "      <td>Adults In Motion</td>\n",
              "      <td>Virtual connecting is not the next big thing i...</td>\n",
              "    </tr>\n",
              "    <tr>\n",
              "      <th>2</th>\n",
              "      <td>2</td>\n",
              "      <td>885747516</td>\n",
              "      <td>2021-02-15 18:14:22</td>\n",
              "      <td>AIMkitchener</td>\n",
              "      <td>“Treat your friends like family and your famil...</td>\n",
              "      <td>['https://t.co/jpFQ3K5oSK']</td>\n",
              "      <td>1.0</td>\n",
              "      <td>0.0</td>\n",
              "      <td>https://twitter.com/i/web/status/1361378331254...</td>\n",
              "      <td>[]</td>\n",
              "      <td>False</td>\n",
              "      <td>False</td>\n",
              "      <td>False</td>\n",
              "      <td>False</td>\n",
              "      <td>Adults In Motion</td>\n",
              "      <td>“Treat your friends like family and your famil...</td>\n",
              "    </tr>\n",
              "    <tr>\n",
              "      <th>3</th>\n",
              "      <td>3</td>\n",
              "      <td>885747516</td>\n",
              "      <td>2021-02-01 17:54:56</td>\n",
              "      <td>AIMkitchener</td>\n",
              "      <td>🤗 Sending virtual Love Squeezes to anyone who ...</td>\n",
              "      <td>['https://t.co/zk4ZZm0cZa']</td>\n",
              "      <td>1.0</td>\n",
              "      <td>0.0</td>\n",
              "      <td>https://twitter.com/i/web/status/1356300010737...</td>\n",
              "      <td>['VirtualHug', 'SpreadKindness', 'SpreadLove']</td>\n",
              "      <td>False</td>\n",
              "      <td>False</td>\n",
              "      <td>False</td>\n",
              "      <td>False</td>\n",
              "      <td>Adults In Motion</td>\n",
              "      <td>Sending virtual Love Squeezes to anyone who n...</td>\n",
              "    </tr>\n",
              "    <tr>\n",
              "      <th>4</th>\n",
              "      <td>4</td>\n",
              "      <td>885747516</td>\n",
              "      <td>2021-01-15 18:40:36</td>\n",
              "      <td>AIMkitchener</td>\n",
              "      <td>How are YOU getting active and outdoors?! Tell...</td>\n",
              "      <td>['https://t.co/eZB1kEPYUz']</td>\n",
              "      <td>1.0</td>\n",
              "      <td>0.0</td>\n",
              "      <td>NaN</td>\n",
              "      <td>[]</td>\n",
              "      <td>True</td>\n",
              "      <td>False</td>\n",
              "      <td>False</td>\n",
              "      <td>False</td>\n",
              "      <td>Adults In Motion</td>\n",
              "      <td>How are YOU getting active and outdoors Tell u...</td>\n",
              "    </tr>\n",
              "  </tbody>\n",
              "</table>\n",
              "</div>"
            ],
            "text/plain": [
              "   tweet_id  ...                                         text_clean\n",
              "0         0  ...   What will your garden look like this year  \\n...\n",
              "1         1  ...  Virtual connecting is not the next big thing i...\n",
              "2         2  ...  “Treat your friends like family and your famil...\n",
              "3         3  ...   Sending virtual Love Squeezes to anyone who n...\n",
              "4         4  ...  How are YOU getting active and outdoors Tell u...\n",
              "\n",
              "[5 rows x 16 columns]"
            ]
          },
          "metadata": {},
          "execution_count": 5
        }
      ]
    },
    {
      "cell_type": "code",
      "metadata": {
        "colab": {
          "base_uri": "https://localhost:8080/"
        },
        "id": "BXG_Du-A4tDU",
        "outputId": "1999215e-3b75-4340-a616-76b8ff74aa10"
      },
      "source": [
        "df.info()"
      ],
      "execution_count": 6,
      "outputs": [
        {
          "output_type": "stream",
          "name": "stdout",
          "text": [
            "<class 'pandas.core.frame.DataFrame'>\n",
            "RangeIndex: 184743 entries, 0 to 184742\n",
            "Data columns (total 16 columns):\n",
            " #   Column             Non-Null Count   Dtype  \n",
            "---  ------             --------------   -----  \n",
            " 0   tweet_id           184743 non-null  int64  \n",
            " 1   user_id            184743 non-null  int64  \n",
            " 2   created_at         184743 non-null  object \n",
            " 3   screen_name        184743 non-null  object \n",
            " 4   text               184743 non-null  object \n",
            " 5   urls               184741 non-null  object \n",
            " 6   favorite_count     184741 non-null  float64\n",
            " 7   retweet_count      184741 non-null  float64\n",
            " 8   URL                105515 non-null  object \n",
            " 9   hashtags           184741 non-null  object \n",
            " 10  has_media          184741 non-null  object \n",
            " 11  is_quote           184741 non-null  object \n",
            " 12  is_reply           184741 non-null  object \n",
            " 13  is_retweet         184741 non-null  object \n",
            " 14  Organization Name  184741 non-null  object \n",
            " 15  text_clean         183282 non-null  object \n",
            "dtypes: float64(2), int64(2), object(12)\n",
            "memory usage: 22.6+ MB\n"
          ]
        }
      ]
    },
    {
      "cell_type": "code",
      "metadata": {
        "colab": {
          "base_uri": "https://localhost:8080/",
          "height": 295
        },
        "id": "Su3DDBMd4zl3",
        "outputId": "40dd74da-9100-417c-b240-e3b47ea56230"
      },
      "source": [
        "df.describe()"
      ],
      "execution_count": 7,
      "outputs": [
        {
          "output_type": "execute_result",
          "data": {
            "text/html": [
              "<div>\n",
              "<style scoped>\n",
              "    .dataframe tbody tr th:only-of-type {\n",
              "        vertical-align: middle;\n",
              "    }\n",
              "\n",
              "    .dataframe tbody tr th {\n",
              "        vertical-align: top;\n",
              "    }\n",
              "\n",
              "    .dataframe thead th {\n",
              "        text-align: right;\n",
              "    }\n",
              "</style>\n",
              "<table border=\"1\" class=\"dataframe\">\n",
              "  <thead>\n",
              "    <tr style=\"text-align: right;\">\n",
              "      <th></th>\n",
              "      <th>tweet_id</th>\n",
              "      <th>user_id</th>\n",
              "      <th>favorite_count</th>\n",
              "      <th>retweet_count</th>\n",
              "    </tr>\n",
              "  </thead>\n",
              "  <tbody>\n",
              "    <tr>\n",
              "      <th>count</th>\n",
              "      <td>184743.000000</td>\n",
              "      <td>1.847430e+05</td>\n",
              "      <td>184741.000000</td>\n",
              "      <td>1.847410e+05</td>\n",
              "    </tr>\n",
              "    <tr>\n",
              "      <th>mean</th>\n",
              "      <td>92374.066812</td>\n",
              "      <td>2.609523e+16</td>\n",
              "      <td>1.721989</td>\n",
              "      <td>8.308097e+01</td>\n",
              "    </tr>\n",
              "    <tr>\n",
              "      <th>std</th>\n",
              "      <td>53332.082297</td>\n",
              "      <td>1.536217e+17</td>\n",
              "      <td>4.911940</td>\n",
              "      <td>6.985665e+03</td>\n",
              "    </tr>\n",
              "    <tr>\n",
              "      <th>min</th>\n",
              "      <td>0.000000</td>\n",
              "      <td>2.790977e+07</td>\n",
              "      <td>0.000000</td>\n",
              "      <td>0.000000e+00</td>\n",
              "    </tr>\n",
              "    <tr>\n",
              "      <th>25%</th>\n",
              "      <td>46187.500000</td>\n",
              "      <td>1.427419e+08</td>\n",
              "      <td>0.000000</td>\n",
              "      <td>0.000000e+00</td>\n",
              "    </tr>\n",
              "    <tr>\n",
              "      <th>50%</th>\n",
              "      <td>92375.000000</td>\n",
              "      <td>2.438686e+08</td>\n",
              "      <td>0.000000</td>\n",
              "      <td>1.000000e+00</td>\n",
              "    </tr>\n",
              "    <tr>\n",
              "      <th>75%</th>\n",
              "      <td>138560.500000</td>\n",
              "      <td>9.301176e+08</td>\n",
              "      <td>2.000000</td>\n",
              "      <td>3.000000e+00</td>\n",
              "    </tr>\n",
              "    <tr>\n",
              "      <th>max</th>\n",
              "      <td>184746.000000</td>\n",
              "      <td>1.291550e+18</td>\n",
              "      <td>578.000000</td>\n",
              "      <td>1.506563e+06</td>\n",
              "    </tr>\n",
              "  </tbody>\n",
              "</table>\n",
              "</div>"
            ],
            "text/plain": [
              "            tweet_id       user_id  favorite_count  retweet_count\n",
              "count  184743.000000  1.847430e+05   184741.000000   1.847410e+05\n",
              "mean    92374.066812  2.609523e+16        1.721989   8.308097e+01\n",
              "std     53332.082297  1.536217e+17        4.911940   6.985665e+03\n",
              "min         0.000000  2.790977e+07        0.000000   0.000000e+00\n",
              "25%     46187.500000  1.427419e+08        0.000000   0.000000e+00\n",
              "50%     92375.000000  2.438686e+08        0.000000   1.000000e+00\n",
              "75%    138560.500000  9.301176e+08        2.000000   3.000000e+00\n",
              "max    184746.000000  1.291550e+18      578.000000   1.506563e+06"
            ]
          },
          "metadata": {},
          "execution_count": 7
        }
      ]
    },
    {
      "cell_type": "code",
      "metadata": {
        "colab": {
          "base_uri": "https://localhost:8080/"
        },
        "id": "YuECZD1T9Vw5",
        "outputId": "cac63e5b-8e74-4ced-b048-38d4c7ca993f"
      },
      "source": [
        "df.isnull().sum()"
      ],
      "execution_count": 8,
      "outputs": [
        {
          "output_type": "execute_result",
          "data": {
            "text/plain": [
              "tweet_id                 0\n",
              "user_id                  0\n",
              "created_at               0\n",
              "screen_name              0\n",
              "text                     0\n",
              "urls                     2\n",
              "favorite_count           2\n",
              "retweet_count            2\n",
              "URL                  79228\n",
              "hashtags                 2\n",
              "has_media                2\n",
              "is_quote                 2\n",
              "is_reply                 2\n",
              "is_retweet               2\n",
              "Organization Name        2\n",
              "text_clean            1461\n",
              "dtype: int64"
            ]
          },
          "metadata": {},
          "execution_count": 8
        }
      ]
    },
    {
      "cell_type": "markdown",
      "metadata": {
        "id": "GbB0tQ1R-Dbs"
      },
      "source": [
        "2 rows consistently have null values, so pulling out index of those rows."
      ]
    },
    {
      "cell_type": "code",
      "metadata": {
        "id": "MrgW2Uno445Q"
      },
      "source": [
        "null_rows = df[df['is_quote'].isnull()].index.tolist()"
      ],
      "execution_count": 9,
      "outputs": []
    },
    {
      "cell_type": "markdown",
      "metadata": {
        "id": "QxNu5ajd-TCk"
      },
      "source": [
        "Dropping null rows"
      ]
    },
    {
      "cell_type": "code",
      "metadata": {
        "id": "Qm6NmZUU9mQm"
      },
      "source": [
        "df.drop(null_rows, axis = 0, inplace =True)"
      ],
      "execution_count": 10,
      "outputs": []
    },
    {
      "cell_type": "markdown",
      "metadata": {
        "id": "iNBsPIaH-XS3"
      },
      "source": [
        "Checking shape of dataframe to confirm rows are deleted"
      ]
    },
    {
      "cell_type": "code",
      "metadata": {
        "colab": {
          "base_uri": "https://localhost:8080/"
        },
        "id": "8QwoTIWOE_Q9",
        "outputId": "204fbd52-51fa-47d8-f143-0e6d19add488"
      },
      "source": [
        "df.isnull().sum()"
      ],
      "execution_count": 11,
      "outputs": [
        {
          "output_type": "execute_result",
          "data": {
            "text/plain": [
              "tweet_id                 0\n",
              "user_id                  0\n",
              "created_at               0\n",
              "screen_name              0\n",
              "text                     0\n",
              "urls                     0\n",
              "favorite_count           0\n",
              "retweet_count            0\n",
              "URL                  79226\n",
              "hashtags                 0\n",
              "has_media                0\n",
              "is_quote                 0\n",
              "is_reply                 0\n",
              "is_retweet               0\n",
              "Organization Name        0\n",
              "text_clean            1459\n",
              "dtype: int64"
            ]
          },
          "metadata": {},
          "execution_count": 11
        }
      ]
    },
    {
      "cell_type": "markdown",
      "metadata": {
        "id": "93ERY0_w_Ixc"
      },
      "source": [
        "Removing Redundant columns ['URL', 'urls', 'text'] \n",
        "(we have clean text column)"
      ]
    },
    {
      "cell_type": "code",
      "metadata": {
        "colab": {
          "base_uri": "https://localhost:8080/",
          "height": 417
        },
        "id": "seY1fBSz97_d",
        "outputId": "9f856817-3b51-4f0f-d214-c2735be34ceb"
      },
      "source": [
        "Redundant_columns = df[['URL','urls','text']]\n",
        "Redundant_columns"
      ],
      "execution_count": 12,
      "outputs": [
        {
          "output_type": "execute_result",
          "data": {
            "text/html": [
              "<div>\n",
              "<style scoped>\n",
              "    .dataframe tbody tr th:only-of-type {\n",
              "        vertical-align: middle;\n",
              "    }\n",
              "\n",
              "    .dataframe tbody tr th {\n",
              "        vertical-align: top;\n",
              "    }\n",
              "\n",
              "    .dataframe thead th {\n",
              "        text-align: right;\n",
              "    }\n",
              "</style>\n",
              "<table border=\"1\" class=\"dataframe\">\n",
              "  <thead>\n",
              "    <tr style=\"text-align: right;\">\n",
              "      <th></th>\n",
              "      <th>URL</th>\n",
              "      <th>urls</th>\n",
              "      <th>text</th>\n",
              "    </tr>\n",
              "  </thead>\n",
              "  <tbody>\n",
              "    <tr>\n",
              "      <th>0</th>\n",
              "      <td>https://twitter.com/i/web/status/1365360946378...</td>\n",
              "      <td>['https://t.co/g1djW5JMVT']</td>\n",
              "      <td>🍅 What will your garden look like this year? 🪴...</td>\n",
              "    </tr>\n",
              "    <tr>\n",
              "      <th>1</th>\n",
              "      <td>https://twitter.com/i/web/status/1364660054046...</td>\n",
              "      <td>['https://t.co/b1Ts6V60hS']</td>\n",
              "      <td>Virtual connecting is not the next big thing, ...</td>\n",
              "    </tr>\n",
              "    <tr>\n",
              "      <th>2</th>\n",
              "      <td>https://twitter.com/i/web/status/1361378331254...</td>\n",
              "      <td>['https://t.co/jpFQ3K5oSK']</td>\n",
              "      <td>“Treat your friends like family and your famil...</td>\n",
              "    </tr>\n",
              "    <tr>\n",
              "      <th>3</th>\n",
              "      <td>https://twitter.com/i/web/status/1356300010737...</td>\n",
              "      <td>['https://t.co/zk4ZZm0cZa']</td>\n",
              "      <td>🤗 Sending virtual Love Squeezes to anyone who ...</td>\n",
              "    </tr>\n",
              "    <tr>\n",
              "      <th>4</th>\n",
              "      <td>NaN</td>\n",
              "      <td>['https://t.co/eZB1kEPYUz']</td>\n",
              "      <td>How are YOU getting active and outdoors?! Tell...</td>\n",
              "    </tr>\n",
              "    <tr>\n",
              "      <th>...</th>\n",
              "      <td>...</td>\n",
              "      <td>...</td>\n",
              "      <td>...</td>\n",
              "    </tr>\n",
              "    <tr>\n",
              "      <th>184738</th>\n",
              "      <td>https://twitter.com/i/web/status/1044760651112...</td>\n",
              "      <td>['https://t.co/EhOsdVo0fk']</td>\n",
              "      <td>We were really happy to join @dataforgoodyyz a...</td>\n",
              "    </tr>\n",
              "    <tr>\n",
              "      <th>184739</th>\n",
              "      <td>NaN</td>\n",
              "      <td>[]</td>\n",
              "      <td>RT @dataforgoodyyz: We're happy to see the dat...</td>\n",
              "    </tr>\n",
              "    <tr>\n",
              "      <th>184740</th>\n",
              "      <td>https://twitter.com/dataforgoodwr/status/10418...</td>\n",
              "      <td>['https://t.co/7rGBtUfOuK']</td>\n",
              "      <td>@Data_for_Good @dataforgoodyyz https://t.co/7r...</td>\n",
              "    </tr>\n",
              "    <tr>\n",
              "      <th>184741</th>\n",
              "      <td>https://twitter.com/i/web/status/1041858116181...</td>\n",
              "      <td>['https://t.co/At80jnEQtt']</td>\n",
              "      <td>We are live!  If you live in Waterloo Region a...</td>\n",
              "    </tr>\n",
              "    <tr>\n",
              "      <th>184742</th>\n",
              "      <td>https://twitter.com/dataforgoodyyz/status/1038...</td>\n",
              "      <td>['https://t.co/eBhziiMAKz']</td>\n",
              "      <td>Good luck @dataforgoodyyz!  Excited to start o...</td>\n",
              "    </tr>\n",
              "  </tbody>\n",
              "</table>\n",
              "<p>184741 rows × 3 columns</p>\n",
              "</div>"
            ],
            "text/plain": [
              "                                                      URL  ...                                               text\n",
              "0       https://twitter.com/i/web/status/1365360946378...  ...  🍅 What will your garden look like this year? 🪴...\n",
              "1       https://twitter.com/i/web/status/1364660054046...  ...  Virtual connecting is not the next big thing, ...\n",
              "2       https://twitter.com/i/web/status/1361378331254...  ...  “Treat your friends like family and your famil...\n",
              "3       https://twitter.com/i/web/status/1356300010737...  ...  🤗 Sending virtual Love Squeezes to anyone who ...\n",
              "4                                                     NaN  ...  How are YOU getting active and outdoors?! Tell...\n",
              "...                                                   ...  ...                                                ...\n",
              "184738  https://twitter.com/i/web/status/1044760651112...  ...  We were really happy to join @dataforgoodyyz a...\n",
              "184739                                                NaN  ...  RT @dataforgoodyyz: We're happy to see the dat...\n",
              "184740  https://twitter.com/dataforgoodwr/status/10418...  ...  @Data_for_Good @dataforgoodyyz https://t.co/7r...\n",
              "184741  https://twitter.com/i/web/status/1041858116181...  ...  We are live!  If you live in Waterloo Region a...\n",
              "184742  https://twitter.com/dataforgoodyyz/status/1038...  ...  Good luck @dataforgoodyyz!  Excited to start o...\n",
              "\n",
              "[184741 rows x 3 columns]"
            ]
          },
          "metadata": {},
          "execution_count": 12
        }
      ]
    },
    {
      "cell_type": "code",
      "metadata": {
        "id": "tRjmpVjpARae"
      },
      "source": [
        "df.drop(Redundant_columns, axis = 1, inplace =True)"
      ],
      "execution_count": 13,
      "outputs": []
    },
    {
      "cell_type": "code",
      "metadata": {
        "colab": {
          "base_uri": "https://localhost:8080/",
          "height": 338
        },
        "id": "CPswYw74Ak0L",
        "outputId": "d856e2f4-3c5d-4bfc-b705-d416ab0a2152"
      },
      "source": [
        "df.head()"
      ],
      "execution_count": 14,
      "outputs": [
        {
          "output_type": "execute_result",
          "data": {
            "text/html": [
              "<div>\n",
              "<style scoped>\n",
              "    .dataframe tbody tr th:only-of-type {\n",
              "        vertical-align: middle;\n",
              "    }\n",
              "\n",
              "    .dataframe tbody tr th {\n",
              "        vertical-align: top;\n",
              "    }\n",
              "\n",
              "    .dataframe thead th {\n",
              "        text-align: right;\n",
              "    }\n",
              "</style>\n",
              "<table border=\"1\" class=\"dataframe\">\n",
              "  <thead>\n",
              "    <tr style=\"text-align: right;\">\n",
              "      <th></th>\n",
              "      <th>tweet_id</th>\n",
              "      <th>user_id</th>\n",
              "      <th>created_at</th>\n",
              "      <th>screen_name</th>\n",
              "      <th>favorite_count</th>\n",
              "      <th>retweet_count</th>\n",
              "      <th>hashtags</th>\n",
              "      <th>has_media</th>\n",
              "      <th>is_quote</th>\n",
              "      <th>is_reply</th>\n",
              "      <th>is_retweet</th>\n",
              "      <th>Organization Name</th>\n",
              "      <th>text_clean</th>\n",
              "    </tr>\n",
              "  </thead>\n",
              "  <tbody>\n",
              "    <tr>\n",
              "      <th>0</th>\n",
              "      <td>0</td>\n",
              "      <td>885747516</td>\n",
              "      <td>2021-02-26 17:59:51</td>\n",
              "      <td>AIMkitchener</td>\n",
              "      <td>2.0</td>\n",
              "      <td>0.0</td>\n",
              "      <td>[]</td>\n",
              "      <td>False</td>\n",
              "      <td>False</td>\n",
              "      <td>False</td>\n",
              "      <td>False</td>\n",
              "      <td>Adults In Motion</td>\n",
              "      <td>What will your garden look like this year  \\n...</td>\n",
              "    </tr>\n",
              "    <tr>\n",
              "      <th>1</th>\n",
              "      <td>1</td>\n",
              "      <td>885747516</td>\n",
              "      <td>2021-02-24 19:34:45</td>\n",
              "      <td>AIMkitchener</td>\n",
              "      <td>1.0</td>\n",
              "      <td>0.0</td>\n",
              "      <td>[]</td>\n",
              "      <td>False</td>\n",
              "      <td>False</td>\n",
              "      <td>False</td>\n",
              "      <td>False</td>\n",
              "      <td>Adults In Motion</td>\n",
              "      <td>Virtual connecting is not the next big thing i...</td>\n",
              "    </tr>\n",
              "    <tr>\n",
              "      <th>2</th>\n",
              "      <td>2</td>\n",
              "      <td>885747516</td>\n",
              "      <td>2021-02-15 18:14:22</td>\n",
              "      <td>AIMkitchener</td>\n",
              "      <td>1.0</td>\n",
              "      <td>0.0</td>\n",
              "      <td>[]</td>\n",
              "      <td>False</td>\n",
              "      <td>False</td>\n",
              "      <td>False</td>\n",
              "      <td>False</td>\n",
              "      <td>Adults In Motion</td>\n",
              "      <td>“Treat your friends like family and your famil...</td>\n",
              "    </tr>\n",
              "    <tr>\n",
              "      <th>3</th>\n",
              "      <td>3</td>\n",
              "      <td>885747516</td>\n",
              "      <td>2021-02-01 17:54:56</td>\n",
              "      <td>AIMkitchener</td>\n",
              "      <td>1.0</td>\n",
              "      <td>0.0</td>\n",
              "      <td>['VirtualHug', 'SpreadKindness', 'SpreadLove']</td>\n",
              "      <td>False</td>\n",
              "      <td>False</td>\n",
              "      <td>False</td>\n",
              "      <td>False</td>\n",
              "      <td>Adults In Motion</td>\n",
              "      <td>Sending virtual Love Squeezes to anyone who n...</td>\n",
              "    </tr>\n",
              "    <tr>\n",
              "      <th>4</th>\n",
              "      <td>4</td>\n",
              "      <td>885747516</td>\n",
              "      <td>2021-01-15 18:40:36</td>\n",
              "      <td>AIMkitchener</td>\n",
              "      <td>1.0</td>\n",
              "      <td>0.0</td>\n",
              "      <td>[]</td>\n",
              "      <td>True</td>\n",
              "      <td>False</td>\n",
              "      <td>False</td>\n",
              "      <td>False</td>\n",
              "      <td>Adults In Motion</td>\n",
              "      <td>How are YOU getting active and outdoors Tell u...</td>\n",
              "    </tr>\n",
              "  </tbody>\n",
              "</table>\n",
              "</div>"
            ],
            "text/plain": [
              "   tweet_id  ...                                         text_clean\n",
              "0         0  ...   What will your garden look like this year  \\n...\n",
              "1         1  ...  Virtual connecting is not the next big thing i...\n",
              "2         2  ...  “Treat your friends like family and your famil...\n",
              "3         3  ...   Sending virtual Love Squeezes to anyone who n...\n",
              "4         4  ...  How are YOU getting active and outdoors Tell u...\n",
              "\n",
              "[5 rows x 13 columns]"
            ]
          },
          "metadata": {},
          "execution_count": 14
        }
      ]
    },
    {
      "cell_type": "markdown",
      "metadata": {
        "id": "rAV4b_YyA3p7"
      },
      "source": [
        "Replacing empty '[]' as null for hashtags column"
      ]
    },
    {
      "cell_type": "code",
      "metadata": {
        "id": "O4J4Ib-mBe_j"
      },
      "source": [
        "df['hashtags'].replace({'[]': None}, inplace =True)"
      ],
      "execution_count": 15,
      "outputs": []
    },
    {
      "cell_type": "code",
      "metadata": {
        "colab": {
          "base_uri": "https://localhost:8080/",
          "height": 338
        },
        "id": "0LUyGv5QBqJS",
        "outputId": "af2e46ea-2a96-4219-f82a-f363b18b5e35"
      },
      "source": [
        "df.head()"
      ],
      "execution_count": 16,
      "outputs": [
        {
          "output_type": "execute_result",
          "data": {
            "text/html": [
              "<div>\n",
              "<style scoped>\n",
              "    .dataframe tbody tr th:only-of-type {\n",
              "        vertical-align: middle;\n",
              "    }\n",
              "\n",
              "    .dataframe tbody tr th {\n",
              "        vertical-align: top;\n",
              "    }\n",
              "\n",
              "    .dataframe thead th {\n",
              "        text-align: right;\n",
              "    }\n",
              "</style>\n",
              "<table border=\"1\" class=\"dataframe\">\n",
              "  <thead>\n",
              "    <tr style=\"text-align: right;\">\n",
              "      <th></th>\n",
              "      <th>tweet_id</th>\n",
              "      <th>user_id</th>\n",
              "      <th>created_at</th>\n",
              "      <th>screen_name</th>\n",
              "      <th>favorite_count</th>\n",
              "      <th>retweet_count</th>\n",
              "      <th>hashtags</th>\n",
              "      <th>has_media</th>\n",
              "      <th>is_quote</th>\n",
              "      <th>is_reply</th>\n",
              "      <th>is_retweet</th>\n",
              "      <th>Organization Name</th>\n",
              "      <th>text_clean</th>\n",
              "    </tr>\n",
              "  </thead>\n",
              "  <tbody>\n",
              "    <tr>\n",
              "      <th>0</th>\n",
              "      <td>0</td>\n",
              "      <td>885747516</td>\n",
              "      <td>2021-02-26 17:59:51</td>\n",
              "      <td>AIMkitchener</td>\n",
              "      <td>2.0</td>\n",
              "      <td>0.0</td>\n",
              "      <td>None</td>\n",
              "      <td>False</td>\n",
              "      <td>False</td>\n",
              "      <td>False</td>\n",
              "      <td>False</td>\n",
              "      <td>Adults In Motion</td>\n",
              "      <td>What will your garden look like this year  \\n...</td>\n",
              "    </tr>\n",
              "    <tr>\n",
              "      <th>1</th>\n",
              "      <td>1</td>\n",
              "      <td>885747516</td>\n",
              "      <td>2021-02-24 19:34:45</td>\n",
              "      <td>AIMkitchener</td>\n",
              "      <td>1.0</td>\n",
              "      <td>0.0</td>\n",
              "      <td>None</td>\n",
              "      <td>False</td>\n",
              "      <td>False</td>\n",
              "      <td>False</td>\n",
              "      <td>False</td>\n",
              "      <td>Adults In Motion</td>\n",
              "      <td>Virtual connecting is not the next big thing i...</td>\n",
              "    </tr>\n",
              "    <tr>\n",
              "      <th>2</th>\n",
              "      <td>2</td>\n",
              "      <td>885747516</td>\n",
              "      <td>2021-02-15 18:14:22</td>\n",
              "      <td>AIMkitchener</td>\n",
              "      <td>1.0</td>\n",
              "      <td>0.0</td>\n",
              "      <td>None</td>\n",
              "      <td>False</td>\n",
              "      <td>False</td>\n",
              "      <td>False</td>\n",
              "      <td>False</td>\n",
              "      <td>Adults In Motion</td>\n",
              "      <td>“Treat your friends like family and your famil...</td>\n",
              "    </tr>\n",
              "    <tr>\n",
              "      <th>3</th>\n",
              "      <td>3</td>\n",
              "      <td>885747516</td>\n",
              "      <td>2021-02-01 17:54:56</td>\n",
              "      <td>AIMkitchener</td>\n",
              "      <td>1.0</td>\n",
              "      <td>0.0</td>\n",
              "      <td>['VirtualHug', 'SpreadKindness', 'SpreadLove']</td>\n",
              "      <td>False</td>\n",
              "      <td>False</td>\n",
              "      <td>False</td>\n",
              "      <td>False</td>\n",
              "      <td>Adults In Motion</td>\n",
              "      <td>Sending virtual Love Squeezes to anyone who n...</td>\n",
              "    </tr>\n",
              "    <tr>\n",
              "      <th>4</th>\n",
              "      <td>4</td>\n",
              "      <td>885747516</td>\n",
              "      <td>2021-01-15 18:40:36</td>\n",
              "      <td>AIMkitchener</td>\n",
              "      <td>1.0</td>\n",
              "      <td>0.0</td>\n",
              "      <td>None</td>\n",
              "      <td>True</td>\n",
              "      <td>False</td>\n",
              "      <td>False</td>\n",
              "      <td>False</td>\n",
              "      <td>Adults In Motion</td>\n",
              "      <td>How are YOU getting active and outdoors Tell u...</td>\n",
              "    </tr>\n",
              "  </tbody>\n",
              "</table>\n",
              "</div>"
            ],
            "text/plain": [
              "   tweet_id  ...                                         text_clean\n",
              "0         0  ...   What will your garden look like this year  \\n...\n",
              "1         1  ...  Virtual connecting is not the next big thing i...\n",
              "2         2  ...  “Treat your friends like family and your famil...\n",
              "3         3  ...   Sending virtual Love Squeezes to anyone who n...\n",
              "4         4  ...  How are YOU getting active and outdoors Tell u...\n",
              "\n",
              "[5 rows x 13 columns]"
            ]
          },
          "metadata": {},
          "execution_count": 16
        }
      ]
    },
    {
      "cell_type": "markdown",
      "metadata": {
        "id": "ny3BLYAYHDZZ"
      },
      "source": [
        "# Exploratory Data Analysis"
      ]
    },
    {
      "cell_type": "markdown",
      "metadata": {
        "id": "9vQyBVCjHZB7"
      },
      "source": [
        "Total Number of numeric columns"
      ]
    },
    {
      "cell_type": "code",
      "metadata": {
        "colab": {
          "base_uri": "https://localhost:8080/"
        },
        "id": "HkUfxHpdHL2H",
        "outputId": "f39eba1d-63ce-4ac6-c465-10bcaa4b3fa8"
      },
      "source": [
        "numerics = ['int16', 'int32', 'int64', 'float16', 'float32', 'float64']\n",
        "numeric_df = df.select_dtypes(include=numerics)\n",
        "len(numeric_df.columns)"
      ],
      "execution_count": 17,
      "outputs": [
        {
          "output_type": "execute_result",
          "data": {
            "text/plain": [
              "4"
            ]
          },
          "metadata": {},
          "execution_count": 17
        }
      ]
    },
    {
      "cell_type": "code",
      "metadata": {
        "colab": {
          "base_uri": "https://localhost:8080/",
          "height": 282
        },
        "id": "2LgCy8F_HfUW",
        "outputId": "229d312f-5025-49a3-b283-db19b955bcdf"
      },
      "source": [
        "numeric_df.favorite_count.plot(kind = 'hist')"
      ],
      "execution_count": 18,
      "outputs": [
        {
          "output_type": "execute_result",
          "data": {
            "text/plain": [
              "<matplotlib.axes._subplots.AxesSubplot at 0x7fa3d0cba110>"
            ]
          },
          "metadata": {},
          "execution_count": 18
        },
        {
          "output_type": "display_data",
          "data": {
            "image/png": "[encoded data removed]",
            "text/plain": [
              "<Figure size 432x288 with 1 Axes>"
            ]
          },
          "metadata": {
            "needs_background": "light"
          }
        }
      ]
    },
    {
      "cell_type": "code",
      "metadata": {
        "colab": {
          "base_uri": "https://localhost:8080/"
        },
        "id": "SOYl58QuHfep",
        "outputId": "df17e8d9-52c4-45f3-ba38-c183e6b41bce"
      },
      "source": [
        "zero_FC = df[df.favorite_count == 0]\n",
        "zero_FC.shape"
      ],
      "execution_count": 19,
      "outputs": [
        {
          "output_type": "execute_result",
          "data": {
            "text/plain": [
              "(107645, 13)"
            ]
          },
          "metadata": {},
          "execution_count": 19
        }
      ]
    },
    {
      "cell_type": "markdown",
      "metadata": {
        "id": "hFhoQXftJoLq"
      },
      "source": [
        "Around 107k tweets have zero likes"
      ]
    },
    {
      "cell_type": "code",
      "metadata": {
        "id": "H0NLKInnJnI-"
      },
      "source": [
        "df_updated = df[df.favorite_count > 0]"
      ],
      "execution_count": 20,
      "outputs": []
    },
    {
      "cell_type": "code",
      "metadata": {
        "colab": {
          "base_uri": "https://localhost:8080/"
        },
        "id": "loHJmQCSKECa",
        "outputId": "fe3f8725-7c3f-4cd3-c327-b3687ca04733"
      },
      "source": [
        "df_updated.shape"
      ],
      "execution_count": 21,
      "outputs": [
        {
          "output_type": "execute_result",
          "data": {
            "text/plain": [
              "(77096, 13)"
            ]
          },
          "metadata": {},
          "execution_count": 21
        }
      ]
    },
    {
      "cell_type": "code",
      "metadata": {
        "colab": {
          "base_uri": "https://localhost:8080/",
          "height": 114
        },
        "id": "E8TZwi3qKSg4",
        "outputId": "f59704c7-5bf3-41e1-f7ce-84566d62586c"
      },
      "source": [
        "df_updated.sort_values('favorite_count',ascending = False).head(1)"
      ],
      "execution_count": 22,
      "outputs": [
        {
          "output_type": "execute_result",
          "data": {
            "text/html": [
              "<div>\n",
              "<style scoped>\n",
              "    .dataframe tbody tr th:only-of-type {\n",
              "        vertical-align: middle;\n",
              "    }\n",
              "\n",
              "    .dataframe tbody tr th {\n",
              "        vertical-align: top;\n",
              "    }\n",
              "\n",
              "    .dataframe thead th {\n",
              "        text-align: right;\n",
              "    }\n",
              "</style>\n",
              "<table border=\"1\" class=\"dataframe\">\n",
              "  <thead>\n",
              "    <tr style=\"text-align: right;\">\n",
              "      <th></th>\n",
              "      <th>tweet_id</th>\n",
              "      <th>user_id</th>\n",
              "      <th>created_at</th>\n",
              "      <th>screen_name</th>\n",
              "      <th>favorite_count</th>\n",
              "      <th>retweet_count</th>\n",
              "      <th>hashtags</th>\n",
              "      <th>has_media</th>\n",
              "      <th>is_quote</th>\n",
              "      <th>is_reply</th>\n",
              "      <th>is_retweet</th>\n",
              "      <th>Organization Name</th>\n",
              "      <th>text_clean</th>\n",
              "    </tr>\n",
              "  </thead>\n",
              "  <tbody>\n",
              "    <tr>\n",
              "      <th>88051</th>\n",
              "      <td>88055</td>\n",
              "      <td>425118862</td>\n",
              "      <td>2021-01-19 16:34:03</td>\n",
              "      <td>KitchLibrary</td>\n",
              "      <td>578.0</td>\n",
              "      <td>142.0</td>\n",
              "      <td>None</td>\n",
              "      <td>False</td>\n",
              "      <td>False</td>\n",
              "      <td>False</td>\n",
              "      <td>False</td>\n",
              "      <td>Kitchener Public Library</td>\n",
              "      <td>Its official No more overdue fines ever \\n\\nWe...</td>\n",
              "    </tr>\n",
              "  </tbody>\n",
              "</table>\n",
              "</div>"
            ],
            "text/plain": [
              "       tweet_id  ...                                         text_clean\n",
              "88051     88055  ...  Its official No more overdue fines ever \\n\\nWe...\n",
              "\n",
              "[1 rows x 13 columns]"
            ]
          },
          "metadata": {},
          "execution_count": 22
        }
      ]
    },
    {
      "cell_type": "markdown",
      "metadata": {
        "id": "ZrsoBvHWJY0M"
      },
      "source": [
        "Tweet having highest likes was tweeted by \"KitchLibrary\" twitter handle which was at 578 likes "
      ]
    },
    {
      "cell_type": "code",
      "metadata": {
        "colab": {
          "base_uri": "https://localhost:8080/"
        },
        "id": "cTKiUnpZLJv8",
        "outputId": "47cac4aa-71da-4567-b155-e21d46eeb235"
      },
      "source": [
        "df_updated[df_updated.favorite_count>100].shape"
      ],
      "execution_count": 23,
      "outputs": [
        {
          "output_type": "execute_result",
          "data": {
            "text/plain": [
              "(33, 13)"
            ]
          },
          "metadata": {},
          "execution_count": 23
        }
      ]
    },
    {
      "cell_type": "markdown",
      "metadata": {
        "id": "cbpx2gOLGbDA"
      },
      "source": [
        "only 33 tweets have likes more than 100"
      ]
    },
    {
      "cell_type": "code",
      "metadata": {
        "id": "yhUXM8POMRY2"
      },
      "source": [
        "org_profiles = pd.read_csv('/content/drive/MyDrive/[Data for Good] Social Media Datathon Challenge/organization_profiles.csv')"
      ],
      "execution_count": 24,
      "outputs": []
    },
    {
      "cell_type": "code",
      "metadata": {
        "colab": {
          "base_uri": "https://localhost:8080/",
          "height": 203
        },
        "id": "cvyeLWiPNGlg",
        "outputId": "4b8d33d0-d396-458e-a3dc-a69e738185e0"
      },
      "source": [
        "org_profiles.head()"
      ],
      "execution_count": 25,
      "outputs": [
        {
          "output_type": "execute_result",
          "data": {
            "text/html": [
              "<div>\n",
              "<style scoped>\n",
              "    .dataframe tbody tr th:only-of-type {\n",
              "        vertical-align: middle;\n",
              "    }\n",
              "\n",
              "    .dataframe tbody tr th {\n",
              "        vertical-align: top;\n",
              "    }\n",
              "\n",
              "    .dataframe thead th {\n",
              "        text-align: right;\n",
              "    }\n",
              "</style>\n",
              "<table border=\"1\" class=\"dataframe\">\n",
              "  <thead>\n",
              "    <tr style=\"text-align: right;\">\n",
              "      <th></th>\n",
              "      <th>id</th>\n",
              "      <th>Organization Name</th>\n",
              "      <th>twitter_handle</th>\n",
              "      <th>screen_name</th>\n",
              "      <th>agency_catergory</th>\n",
              "      <th>followers_count</th>\n",
              "      <th>friends_count</th>\n",
              "      <th>location</th>\n",
              "    </tr>\n",
              "  </thead>\n",
              "  <tbody>\n",
              "    <tr>\n",
              "      <th>0</th>\n",
              "      <td>0</td>\n",
              "      <td>Adults In Motion</td>\n",
              "      <td>@AIMkitchener</td>\n",
              "      <td>AIMkitchener</td>\n",
              "      <td>Disabilities</td>\n",
              "      <td>662</td>\n",
              "      <td>800</td>\n",
              "      <td>Kitchener, Ontario</td>\n",
              "    </tr>\n",
              "    <tr>\n",
              "      <th>1</th>\n",
              "      <td>1</td>\n",
              "      <td>African Family Revival Organization</td>\n",
              "      <td>@AFROKitchener</td>\n",
              "      <td>AFROKitchener</td>\n",
              "      <td>Arts, Culture and Heritage</td>\n",
              "      <td>125</td>\n",
              "      <td>64</td>\n",
              "      <td>Kitchener, Ontario</td>\n",
              "    </tr>\n",
              "    <tr>\n",
              "      <th>2</th>\n",
              "      <td>2</td>\n",
              "      <td>Alzheimer Society of Waterloo Wellington</td>\n",
              "      <td>@alzsocww</td>\n",
              "      <td>alzsocww</td>\n",
              "      <td>Seniors</td>\n",
              "      <td>1376</td>\n",
              "      <td>432</td>\n",
              "      <td>Waterloo Wellington, Ontario</td>\n",
              "    </tr>\n",
              "    <tr>\n",
              "      <th>3</th>\n",
              "      <td>3</td>\n",
              "      <td>Big Brothers Big Sisters of Waterloo Region</td>\n",
              "      <td>@BBBSWR</td>\n",
              "      <td>BBBSWR</td>\n",
              "      <td>Children, Youth and Family</td>\n",
              "      <td>2462</td>\n",
              "      <td>1551</td>\n",
              "      <td>Waterloo Region</td>\n",
              "    </tr>\n",
              "    <tr>\n",
              "      <th>4</th>\n",
              "      <td>4</td>\n",
              "      <td>Bridges to Belonging</td>\n",
              "      <td>@BtoBelonging</td>\n",
              "      <td>BtoBelonging</td>\n",
              "      <td>Disabilities</td>\n",
              "      <td>1432</td>\n",
              "      <td>1254</td>\n",
              "      <td>Waterloo Region</td>\n",
              "    </tr>\n",
              "  </tbody>\n",
              "</table>\n",
              "</div>"
            ],
            "text/plain": [
              "   id  ...                      location\n",
              "0   0  ...            Kitchener, Ontario\n",
              "1   1  ...            Kitchener, Ontario\n",
              "2   2  ...  Waterloo Wellington, Ontario\n",
              "3   3  ...               Waterloo Region\n",
              "4   4  ...               Waterloo Region\n",
              "\n",
              "[5 rows x 8 columns]"
            ]
          },
          "metadata": {},
          "execution_count": 25
        }
      ]
    },
    {
      "cell_type": "markdown",
      "metadata": {
        "id": "tlbH0id0NTOo"
      },
      "source": [
        "Merging organisation_profile data with tweets data on primary key screen_name with variable df_all"
      ]
    },
    {
      "cell_type": "code",
      "metadata": {
        "colab": {
          "base_uri": "https://localhost:8080/",
          "height": 338
        },
        "id": "G8SEJmkoNRg-",
        "outputId": "057d05f8-a0a0-4a30-91fa-ea0fe764324b"
      },
      "source": [
        "df_updated.head()"
      ],
      "execution_count": 26,
      "outputs": [
        {
          "output_type": "execute_result",
          "data": {
            "text/html": [
              "<div>\n",
              "<style scoped>\n",
              "    .dataframe tbody tr th:only-of-type {\n",
              "        vertical-align: middle;\n",
              "    }\n",
              "\n",
              "    .dataframe tbody tr th {\n",
              "        vertical-align: top;\n",
              "    }\n",
              "\n",
              "    .dataframe thead th {\n",
              "        text-align: right;\n",
              "    }\n",
              "</style>\n",
              "<table border=\"1\" class=\"dataframe\">\n",
              "  <thead>\n",
              "    <tr style=\"text-align: right;\">\n",
              "      <th></th>\n",
              "      <th>tweet_id</th>\n",
              "      <th>user_id</th>\n",
              "      <th>created_at</th>\n",
              "      <th>screen_name</th>\n",
              "      <th>favorite_count</th>\n",
              "      <th>retweet_count</th>\n",
              "      <th>hashtags</th>\n",
              "      <th>has_media</th>\n",
              "      <th>is_quote</th>\n",
              "      <th>is_reply</th>\n",
              "      <th>is_retweet</th>\n",
              "      <th>Organization Name</th>\n",
              "      <th>text_clean</th>\n",
              "    </tr>\n",
              "  </thead>\n",
              "  <tbody>\n",
              "    <tr>\n",
              "      <th>0</th>\n",
              "      <td>0</td>\n",
              "      <td>885747516</td>\n",
              "      <td>2021-02-26 17:59:51</td>\n",
              "      <td>AIMkitchener</td>\n",
              "      <td>2.0</td>\n",
              "      <td>0.0</td>\n",
              "      <td>None</td>\n",
              "      <td>False</td>\n",
              "      <td>False</td>\n",
              "      <td>False</td>\n",
              "      <td>False</td>\n",
              "      <td>Adults In Motion</td>\n",
              "      <td>What will your garden look like this year  \\n...</td>\n",
              "    </tr>\n",
              "    <tr>\n",
              "      <th>1</th>\n",
              "      <td>1</td>\n",
              "      <td>885747516</td>\n",
              "      <td>2021-02-24 19:34:45</td>\n",
              "      <td>AIMkitchener</td>\n",
              "      <td>1.0</td>\n",
              "      <td>0.0</td>\n",
              "      <td>None</td>\n",
              "      <td>False</td>\n",
              "      <td>False</td>\n",
              "      <td>False</td>\n",
              "      <td>False</td>\n",
              "      <td>Adults In Motion</td>\n",
              "      <td>Virtual connecting is not the next big thing i...</td>\n",
              "    </tr>\n",
              "    <tr>\n",
              "      <th>2</th>\n",
              "      <td>2</td>\n",
              "      <td>885747516</td>\n",
              "      <td>2021-02-15 18:14:22</td>\n",
              "      <td>AIMkitchener</td>\n",
              "      <td>1.0</td>\n",
              "      <td>0.0</td>\n",
              "      <td>None</td>\n",
              "      <td>False</td>\n",
              "      <td>False</td>\n",
              "      <td>False</td>\n",
              "      <td>False</td>\n",
              "      <td>Adults In Motion</td>\n",
              "      <td>“Treat your friends like family and your famil...</td>\n",
              "    </tr>\n",
              "    <tr>\n",
              "      <th>3</th>\n",
              "      <td>3</td>\n",
              "      <td>885747516</td>\n",
              "      <td>2021-02-01 17:54:56</td>\n",
              "      <td>AIMkitchener</td>\n",
              "      <td>1.0</td>\n",
              "      <td>0.0</td>\n",
              "      <td>['VirtualHug', 'SpreadKindness', 'SpreadLove']</td>\n",
              "      <td>False</td>\n",
              "      <td>False</td>\n",
              "      <td>False</td>\n",
              "      <td>False</td>\n",
              "      <td>Adults In Motion</td>\n",
              "      <td>Sending virtual Love Squeezes to anyone who n...</td>\n",
              "    </tr>\n",
              "    <tr>\n",
              "      <th>4</th>\n",
              "      <td>4</td>\n",
              "      <td>885747516</td>\n",
              "      <td>2021-01-15 18:40:36</td>\n",
              "      <td>AIMkitchener</td>\n",
              "      <td>1.0</td>\n",
              "      <td>0.0</td>\n",
              "      <td>None</td>\n",
              "      <td>True</td>\n",
              "      <td>False</td>\n",
              "      <td>False</td>\n",
              "      <td>False</td>\n",
              "      <td>Adults In Motion</td>\n",
              "      <td>How are YOU getting active and outdoors Tell u...</td>\n",
              "    </tr>\n",
              "  </tbody>\n",
              "</table>\n",
              "</div>"
            ],
            "text/plain": [
              "   tweet_id  ...                                         text_clean\n",
              "0         0  ...   What will your garden look like this year  \\n...\n",
              "1         1  ...  Virtual connecting is not the next big thing i...\n",
              "2         2  ...  “Treat your friends like family and your famil...\n",
              "3         3  ...   Sending virtual Love Squeezes to anyone who n...\n",
              "4         4  ...  How are YOU getting active and outdoors Tell u...\n",
              "\n",
              "[5 rows x 13 columns]"
            ]
          },
          "metadata": {},
          "execution_count": 26
        }
      ]
    },
    {
      "cell_type": "code",
      "metadata": {
        "id": "YId09674M-wS"
      },
      "source": [
        "df_all = df_updated.merge(org_profiles,on='screen_name',how='inner')"
      ],
      "execution_count": 27,
      "outputs": []
    },
    {
      "cell_type": "code",
      "metadata": {
        "colab": {
          "base_uri": "https://localhost:8080/",
          "height": 265
        },
        "id": "OOqXMIZvQeJG",
        "outputId": "9562d9e9-ba22-48a8-c850-064c31c74d33"
      },
      "source": [
        "df_all.corr()"
      ],
      "execution_count": 28,
      "outputs": [
        {
          "output_type": "execute_result",
          "data": {
            "text/html": [
              "<div>\n",
              "<style scoped>\n",
              "    .dataframe tbody tr th:only-of-type {\n",
              "        vertical-align: middle;\n",
              "    }\n",
              "\n",
              "    .dataframe tbody tr th {\n",
              "        vertical-align: top;\n",
              "    }\n",
              "\n",
              "    .dataframe thead th {\n",
              "        text-align: right;\n",
              "    }\n",
              "</style>\n",
              "<table border=\"1\" class=\"dataframe\">\n",
              "  <thead>\n",
              "    <tr style=\"text-align: right;\">\n",
              "      <th></th>\n",
              "      <th>tweet_id</th>\n",
              "      <th>user_id</th>\n",
              "      <th>favorite_count</th>\n",
              "      <th>retweet_count</th>\n",
              "      <th>id</th>\n",
              "      <th>followers_count</th>\n",
              "      <th>friends_count</th>\n",
              "    </tr>\n",
              "  </thead>\n",
              "  <tbody>\n",
              "    <tr>\n",
              "      <th>tweet_id</th>\n",
              "      <td>1.000000</td>\n",
              "      <td>-0.000884</td>\n",
              "      <td>0.035667</td>\n",
              "      <td>0.033794</td>\n",
              "      <td>0.999061</td>\n",
              "      <td>0.239222</td>\n",
              "      <td>0.195157</td>\n",
              "    </tr>\n",
              "    <tr>\n",
              "      <th>user_id</th>\n",
              "      <td>-0.000884</td>\n",
              "      <td>1.000000</td>\n",
              "      <td>0.014803</td>\n",
              "      <td>0.007347</td>\n",
              "      <td>-0.002238</td>\n",
              "      <td>-0.153329</td>\n",
              "      <td>-0.134750</td>\n",
              "    </tr>\n",
              "    <tr>\n",
              "      <th>favorite_count</th>\n",
              "      <td>0.035667</td>\n",
              "      <td>0.014803</td>\n",
              "      <td>1.000000</td>\n",
              "      <td>0.613552</td>\n",
              "      <td>0.037204</td>\n",
              "      <td>0.101202</td>\n",
              "      <td>0.028142</td>\n",
              "    </tr>\n",
              "    <tr>\n",
              "      <th>retweet_count</th>\n",
              "      <td>0.033794</td>\n",
              "      <td>0.007347</td>\n",
              "      <td>0.613552</td>\n",
              "      <td>1.000000</td>\n",
              "      <td>0.032839</td>\n",
              "      <td>0.053378</td>\n",
              "      <td>0.045591</td>\n",
              "    </tr>\n",
              "    <tr>\n",
              "      <th>id</th>\n",
              "      <td>0.999061</td>\n",
              "      <td>-0.002238</td>\n",
              "      <td>0.037204</td>\n",
              "      <td>0.032839</td>\n",
              "      <td>1.000000</td>\n",
              "      <td>0.233775</td>\n",
              "      <td>0.188543</td>\n",
              "    </tr>\n",
              "    <tr>\n",
              "      <th>followers_count</th>\n",
              "      <td>0.239222</td>\n",
              "      <td>-0.153329</td>\n",
              "      <td>0.101202</td>\n",
              "      <td>0.053378</td>\n",
              "      <td>0.233775</td>\n",
              "      <td>1.000000</td>\n",
              "      <td>0.543141</td>\n",
              "    </tr>\n",
              "    <tr>\n",
              "      <th>friends_count</th>\n",
              "      <td>0.195157</td>\n",
              "      <td>-0.134750</td>\n",
              "      <td>0.028142</td>\n",
              "      <td>0.045591</td>\n",
              "      <td>0.188543</td>\n",
              "      <td>0.543141</td>\n",
              "      <td>1.000000</td>\n",
              "    </tr>\n",
              "  </tbody>\n",
              "</table>\n",
              "</div>"
            ],
            "text/plain": [
              "                 tweet_id   user_id  ...  followers_count  friends_count\n",
              "tweet_id         1.000000 -0.000884  ...         0.239222       0.195157\n",
              "user_id         -0.000884  1.000000  ...        -0.153329      -0.134750\n",
              "favorite_count   0.035667  0.014803  ...         0.101202       0.028142\n",
              "retweet_count    0.033794  0.007347  ...         0.053378       0.045591\n",
              "id               0.999061 -0.002238  ...         0.233775       0.188543\n",
              "followers_count  0.239222 -0.153329  ...         1.000000       0.543141\n",
              "friends_count    0.195157 -0.134750  ...         0.543141       1.000000\n",
              "\n",
              "[7 rows x 7 columns]"
            ]
          },
          "metadata": {},
          "execution_count": 28
        }
      ]
    },
    {
      "cell_type": "code",
      "metadata": {
        "colab": {
          "base_uri": "https://localhost:8080/",
          "height": 265
        },
        "id": "WyLu5hJHNsST",
        "outputId": "1ee3694d-d560-4f51-ba9e-e1e24f9f5c10"
      },
      "source": [
        "plt.scatter(df_all.favorite_count, df_all.retweet_count)\n",
        "plt.show()"
      ],
      "execution_count": 29,
      "outputs": [
        {
          "output_type": "display_data",
          "data": {
            "image/png": "[encoded data removed]",
            "text/plain": [
              "<Figure size 432x288 with 1 Axes>"
            ]
          },
          "metadata": {
            "needs_background": "light"
          }
        }
      ]
    },
    {
      "cell_type": "markdown",
      "metadata": {
        "id": "ZyU795qvOIfa"
      },
      "source": [
        "Majority of data spread in between 0 to 100 likes"
      ]
    },
    {
      "cell_type": "code",
      "metadata": {
        "colab": {
          "base_uri": "https://localhost:8080/",
          "height": 282
        },
        "id": "WQKjgcgUPvIG",
        "outputId": "bf2526fa-333c-48c5-a168-4fbb7c0f3700"
      },
      "source": [
        "plt.plot(df_all.favorite_count,df_all.retweet_count)"
      ],
      "execution_count": 30,
      "outputs": [
        {
          "output_type": "execute_result",
          "data": {
            "text/plain": [
              "[<matplotlib.lines.Line2D at 0x7fa3d0475a50>]"
            ]
          },
          "metadata": {},
          "execution_count": 30
        },
        {
          "output_type": "display_data",
          "data": {
            "image/png": "[encoded data removed]",
            "text/plain": [
              "<Figure size 432x288 with 1 Axes>"
            ]
          },
          "metadata": {
            "needs_background": "light"
          }
        }
      ]
    },
    {
      "cell_type": "code",
      "metadata": {
        "colab": {
          "base_uri": "https://localhost:8080/",
          "height": 265
        },
        "id": "WjGB7x9hNs4F",
        "outputId": "8257a0f7-e422-451b-a3e3-e0ae9716f0ed"
      },
      "source": [
        "plt.scatter(df_all.favorite_count, df_all.followers_count)\n",
        "plt.show()"
      ],
      "execution_count": 31,
      "outputs": [
        {
          "output_type": "display_data",
          "data": {
            "image/png": "[encoded data removed]",
            "text/plain": [
              "<Figure size 432x288 with 1 Axes>"
            ]
          },
          "metadata": {
            "needs_background": "light"
          }
        }
      ]
    },
    {
      "cell_type": "code",
      "metadata": {
        "colab": {
          "base_uri": "https://localhost:8080/",
          "height": 402
        },
        "id": "oGc8Y8-WRhRB",
        "outputId": "965b8948-c933-4949-d585-7f9f4d35cb73"
      },
      "source": [
        "plt.boxplot(df_all.favorite_count)"
      ],
      "execution_count": 32,
      "outputs": [
        {
          "output_type": "execute_result",
          "data": {
            "text/plain": [
              "{'boxes': [<matplotlib.lines.Line2D at 0x7fa3d0394f90>],\n",
              " 'caps': [<matplotlib.lines.Line2D at 0x7fa3d039bfd0>,\n",
              "  <matplotlib.lines.Line2D at 0x7fa3d03a2550>],\n",
              " 'fliers': [<matplotlib.lines.Line2D at 0x7fa3d032a050>],\n",
              " 'means': [],\n",
              " 'medians': [<matplotlib.lines.Line2D at 0x7fa3d03a2ad0>],\n",
              " 'whiskers': [<matplotlib.lines.Line2D at 0x7fa3d039b550>,\n",
              "  <matplotlib.lines.Line2D at 0x7fa3d039ba90>]}"
            ]
          },
          "metadata": {},
          "execution_count": 32
        },
        {
          "output_type": "display_data",
          "data": {
            "image/png": "[encoded data removed]",
            "text/plain": [
              "<Figure size 432x288 with 1 Axes>"
            ]
          },
          "metadata": {
            "needs_background": "light"
          }
        }
      ]
    },
    {
      "cell_type": "code",
      "metadata": {
        "id": "6ASsjyISRlGI"
      },
      "source": [
        "a100 = df_all[df_all['favorite_count']>100]"
      ],
      "execution_count": 33,
      "outputs": []
    },
    {
      "cell_type": "code",
      "metadata": {
        "colab": {
          "base_uri": "https://localhost:8080/",
          "height": 265
        },
        "id": "1p_alfFmSXhi",
        "outputId": "65f2ecfa-3bd0-4579-d495-75d1db09da81"
      },
      "source": [
        "plt.scatter(a100.favorite_count, a100.followers_count)\n",
        "plt.show()"
      ],
      "execution_count": 34,
      "outputs": [
        {
          "output_type": "display_data",
          "data": {
            "image/png": "[encoded data removed]",
            "text/plain": [
              "<Figure size 432x288 with 1 Axes>"
            ]
          },
          "metadata": {
            "needs_background": "light"
          }
        }
      ]
    },
    {
      "cell_type": "code",
      "metadata": {
        "colab": {
          "base_uri": "https://localhost:8080/",
          "height": 265
        },
        "id": "TzqBQE-BSXtG",
        "outputId": "c84e3fea-bd61-4c61-e41d-353fb2e64a0a"
      },
      "source": [
        "plt.scatter(a100.favorite_count, a100.retweet_count)\n",
        "plt.show()"
      ],
      "execution_count": 35,
      "outputs": [
        {
          "output_type": "display_data",
          "data": {
            "image/png": "[encoded data removed]",
            "text/plain": [
              "<Figure size 432x288 with 1 Axes>"
            ]
          },
          "metadata": {
            "needs_background": "light"
          }
        }
      ]
    },
    {
      "cell_type": "markdown",
      "metadata": {
        "id": "LEytXI1USqEx"
      },
      "source": [
        "failed to quantify relationship between between followers_count, retweet_count, favorite_count"
      ]
    },
    {
      "cell_type": "code",
      "metadata": {
        "colab": {
          "base_uri": "https://localhost:8080/",
          "height": 593
        },
        "id": "yPYsbTooS63n",
        "outputId": "bc2b6bbd-6014-4417-a32a-683b59dc61a3"
      },
      "source": [
        "df_all.sort_values(by = 'favorite_count', ascending= False).head()"
      ],
      "execution_count": 36,
      "outputs": [
        {
          "output_type": "execute_result",
          "data": {
            "text/html": [
              "<div>\n",
              "<style scoped>\n",
              "    .dataframe tbody tr th:only-of-type {\n",
              "        vertical-align: middle;\n",
              "    }\n",
              "\n",
              "    .dataframe tbody tr th {\n",
              "        vertical-align: top;\n",
              "    }\n",
              "\n",
              "    .dataframe thead th {\n",
              "        text-align: right;\n",
              "    }\n",
              "</style>\n",
              "<table border=\"1\" class=\"dataframe\">\n",
              "  <thead>\n",
              "    <tr style=\"text-align: right;\">\n",
              "      <th></th>\n",
              "      <th>tweet_id</th>\n",
              "      <th>user_id</th>\n",
              "      <th>created_at</th>\n",
              "      <th>screen_name</th>\n",
              "      <th>favorite_count</th>\n",
              "      <th>retweet_count</th>\n",
              "      <th>hashtags</th>\n",
              "      <th>has_media</th>\n",
              "      <th>is_quote</th>\n",
              "      <th>is_reply</th>\n",
              "      <th>is_retweet</th>\n",
              "      <th>Organization Name_x</th>\n",
              "      <th>text_clean</th>\n",
              "      <th>id</th>\n",
              "      <th>Organization Name_y</th>\n",
              "      <th>twitter_handle</th>\n",
              "      <th>agency_catergory</th>\n",
              "      <th>followers_count</th>\n",
              "      <th>friends_count</th>\n",
              "      <th>location</th>\n",
              "    </tr>\n",
              "  </thead>\n",
              "  <tbody>\n",
              "    <tr>\n",
              "      <th>37696</th>\n",
              "      <td>88055</td>\n",
              "      <td>425118862</td>\n",
              "      <td>2021-01-19 16:34:03</td>\n",
              "      <td>KitchLibrary</td>\n",
              "      <td>578.0</td>\n",
              "      <td>142.0</td>\n",
              "      <td>None</td>\n",
              "      <td>False</td>\n",
              "      <td>False</td>\n",
              "      <td>False</td>\n",
              "      <td>False</td>\n",
              "      <td>Kitchener Public Library</td>\n",
              "      <td>Its official No more overdue fines ever \\n\\nWe...</td>\n",
              "      <td>40</td>\n",
              "      <td>Kitchener Public Library</td>\n",
              "      <td>@KitchLibrary</td>\n",
              "      <td>Library and Research</td>\n",
              "      <td>12630</td>\n",
              "      <td>3035</td>\n",
              "      <td>Kitchener, Ontario, Canada</td>\n",
              "    </tr>\n",
              "    <tr>\n",
              "      <th>38486</th>\n",
              "      <td>89115</td>\n",
              "      <td>425118862</td>\n",
              "      <td>2020-03-22 18:01:04</td>\n",
              "      <td>KitchLibrary</td>\n",
              "      <td>420.0</td>\n",
              "      <td>76.0</td>\n",
              "      <td>['kwawesome']</td>\n",
              "      <td>False</td>\n",
              "      <td>True</td>\n",
              "      <td>False</td>\n",
              "      <td>False</td>\n",
              "      <td>Kitchener Public Library</td>\n",
              "      <td>Thank you to everyone who reached out to us ab...</td>\n",
              "      <td>40</td>\n",
              "      <td>Kitchener Public Library</td>\n",
              "      <td>@KitchLibrary</td>\n",
              "      <td>Library and Research</td>\n",
              "      <td>12630</td>\n",
              "      <td>3035</td>\n",
              "      <td>Kitchener, Ontario, Canada</td>\n",
              "    </tr>\n",
              "    <tr>\n",
              "      <th>38820</th>\n",
              "      <td>89566</td>\n",
              "      <td>425118862</td>\n",
              "      <td>2019-11-04 14:51:57</td>\n",
              "      <td>KitchLibrary</td>\n",
              "      <td>401.0</td>\n",
              "      <td>67.0</td>\n",
              "      <td>None</td>\n",
              "      <td>False</td>\n",
              "      <td>False</td>\n",
              "      <td>False</td>\n",
              "      <td>False</td>\n",
              "      <td>Kitchener Public Library</td>\n",
              "      <td>Access to menstrual products just got a little...</td>\n",
              "      <td>40</td>\n",
              "      <td>Kitchener Public Library</td>\n",
              "      <td>@KitchLibrary</td>\n",
              "      <td>Library and Research</td>\n",
              "      <td>12630</td>\n",
              "      <td>3035</td>\n",
              "      <td>Kitchener, Ontario, Canada</td>\n",
              "    </tr>\n",
              "    <tr>\n",
              "      <th>37726</th>\n",
              "      <td>88093</td>\n",
              "      <td>425118862</td>\n",
              "      <td>2021-01-11 15:45:09</td>\n",
              "      <td>KitchLibrary</td>\n",
              "      <td>355.0</td>\n",
              "      <td>23.0</td>\n",
              "      <td>None</td>\n",
              "      <td>False</td>\n",
              "      <td>False</td>\n",
              "      <td>False</td>\n",
              "      <td>False</td>\n",
              "      <td>Kitchener Public Library</td>\n",
              "      <td>Be careful what you wish for \\n\\nPictured 85 i...</td>\n",
              "      <td>40</td>\n",
              "      <td>Kitchener Public Library</td>\n",
              "      <td>@KitchLibrary</td>\n",
              "      <td>Library and Research</td>\n",
              "      <td>12630</td>\n",
              "      <td>3035</td>\n",
              "      <td>Kitchener, Ontario, Canada</td>\n",
              "    </tr>\n",
              "    <tr>\n",
              "      <th>33136</th>\n",
              "      <td>79267</td>\n",
              "      <td>229574255</td>\n",
              "      <td>2019-02-27 12:01:37</td>\n",
              "      <td>KidsAbility</td>\n",
              "      <td>297.0</td>\n",
              "      <td>180.0</td>\n",
              "      <td>None</td>\n",
              "      <td>False</td>\n",
              "      <td>False</td>\n",
              "      <td>False</td>\n",
              "      <td>False</td>\n",
              "      <td>KidsAbility Centre for Child Development</td>\n",
              "      <td>With bullying in schools workplaces homes and ...</td>\n",
              "      <td>35</td>\n",
              "      <td>KidsAbility Centre for Child Development</td>\n",
              "      <td>@KidsAbility</td>\n",
              "      <td>Disabilities</td>\n",
              "      <td>6406</td>\n",
              "      <td>2277</td>\n",
              "      <td>Ontario</td>\n",
              "    </tr>\n",
              "  </tbody>\n",
              "</table>\n",
              "</div>"
            ],
            "text/plain": [
              "       tweet_id    user_id  ... friends_count                    location\n",
              "37696     88055  425118862  ...          3035  Kitchener, Ontario, Canada\n",
              "38486     89115  425118862  ...          3035  Kitchener, Ontario, Canada\n",
              "38820     89566  425118862  ...          3035  Kitchener, Ontario, Canada\n",
              "37726     88093  425118862  ...          3035  Kitchener, Ontario, Canada\n",
              "33136     79267  229574255  ...          2277                     Ontario\n",
              "\n",
              "[5 rows x 20 columns]"
            ]
          },
          "metadata": {},
          "execution_count": 36
        }
      ]
    },
    {
      "cell_type": "code",
      "metadata": {
        "id": "m816GxXgg2EB"
      },
      "source": [
        "df_all.to_excel('ready..xlsx')"
      ],
      "execution_count": null,
      "outputs": []
    },
    {
      "cell_type": "code",
      "metadata": {
        "colab": {
          "base_uri": "https://localhost:8080/",
          "height": 17
        },
        "id": "ejg3r19yih9V",
        "outputId": "94cf3db6-63c6-4850-a405-a43e53ef6a5f"
      },
      "source": [
        "from google.colab import files\n",
        "files.download(\"ready..xlsx\")"
      ],
      "execution_count": 38,
      "outputs": [
        {
          "output_type": "display_data",
          "data": {
            "application/javascript": [
              "\n",
              "    async function download(id, filename, size) {\n",
              "      if (!google.colab.kernel.accessAllowed) {\n",
              "        return;\n",
              "      }\n",
              "      const div = document.createElement('div');\n",
              "      const label = document.createElement('label');\n",
              "      label.textContent = `Downloading \"${filename}\": `;\n",
              "      div.appendChild(label);\n",
              "      const progress = document.createElement('progress');\n",
              "      progress.max = size;\n",
              "      div.appendChild(progress);\n",
              "      document.body.appendChild(div);\n",
              "\n",
              "      const buffers = [];\n",
              "      let downloaded = 0;\n",
              "\n",
              "      const channel = await google.colab.kernel.comms.open(id);\n",
              "      // Send a message to notify the kernel that we're ready.\n",
              "      channel.send({})\n",
              "\n",
              "      for await (const message of channel.messages) {\n",
              "        // Send a message to notify the kernel that we're ready.\n",
              "        channel.send({})\n",
              "        if (message.buffers) {\n",
              "          for (const buffer of message.buffers) {\n",
              "            buffers.push(buffer);\n",
              "            downloaded += buffer.byteLength;\n",
              "            progress.value = downloaded;\n",
              "          }\n",
              "        }\n",
              "      }\n",
              "      const blob = new Blob(buffers, {type: 'application/binary'});\n",
              "      const a = document.createElement('a');\n",
              "      a.href = window.URL.createObjectURL(blob);\n",
              "      a.download = filename;\n",
              "      div.appendChild(a);\n",
              "      a.click();\n",
              "      div.remove();\n",
              "    }\n",
              "  "
            ],
            "text/plain": [
              "<IPython.core.display.Javascript object>"
            ]
          },
          "metadata": {}
        },
        {
          "output_type": "display_data",
          "data": {
            "application/javascript": [
              "download(\"download_6cc6fdb8-fae3-4ace-b4a0-8c773e2709cd\", \"ready..xlsx\", 2296)"
            ],
            "text/plain": [
              "<IPython.core.display.Javascript object>"
            ]
          },
          "metadata": {}
        }
      ]
    },
    {
      "cell_type": "markdown",
      "metadata": {
        "id": "bhpMJrxVd22C"
      },
      "source": [
        "# Summery and conclusion\n",
        "\n",
        "1. Tweet having highest likes was tweeted by \"KitchLibrary\" twitter handle which was at 578 likes\n",
        "\n",
        "2. only 33 tweets have likes more than 100\n",
        "\n",
        "3. Majority of data spread in between 0 to 100 likes\n",
        "\n",
        "4. failed to quantify relationship between between followers_count, retweet_count, favorite_count"
      ]
    }
  ]
}